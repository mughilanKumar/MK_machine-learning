{
 "cells": [
  {
   "cell_type": "code",
   "execution_count": 1,
   "metadata": {},
   "outputs": [
    {
     "name": "stdout",
     "output_type": "stream",
     "text": [
      "['.ipynb_checkpoints', 'atlanta_9-24-2016_9-30-2017.csv', 'baltimore_9-24-2016_9-30-2017.csv', 'boston_9-24-2016_9-30-2017.csv', 'chicago_9-24-2016_9-30-2017.csv', 'columbia_9-24-2016_9-30-2017.csv', 'dallas_9-24-2016_9-30-2017.csv', 'detroit_9-24-2016_9-30-2017.csv', 'los-angeles_9-24-2016_9-30-2017.csv', 'miami_9-24-2016_9-30-2017.csv', 'new-york_9-24-2016_9-30-2017.csv', 'philadelphia_9-24-2016_9-30-2017.csv', 'san-fransisco_9-24-2016_9-30-2017.csv', 'st-louis_9-24-2016_9-30-2017.csv', 'Untitled.ipynb']\n"
     ]
    }
   ],
   "source": [
    "import numpy as np\n",
    "import pandas as pd\n",
    "import os\n",
    "print(os.listdir())"
   ]
  },
  {
   "cell_type": "code",
   "execution_count": 2,
   "metadata": {},
   "outputs": [],
   "source": [
    "filename=['atlanta_9-24-2016_9-30-2017.csv', 'baltimore_9-24-2016_9-30-2017.csv', 'boston_9-24-2016_9-30-2017.csv', 'chicago_9-24-2016_9-30-2017.csv', 'columbia_9-24-2016_9-30-2017.csv', 'dallas_9-24-2016_9-30-2017.csv', 'detroit_9-24-2016_9-30-2017.csv', 'los-angeles_9-24-2016_9-30-2017.csv', 'miami_9-24-2016_9-30-2017.csv', 'new-york_9-24-2016_9-30-2017.csv', 'philadelphia_9-24-2016_9-30-2017.csv', 'san-fransisco_9-24-2016_9-30-2017.csv', 'st-louis_9-24-2016_9-30-2017.csv']"
   ]
  },
  {
   "cell_type": "code",
   "execution_count": 3,
   "metadata": {},
   "outputs": [],
   "source": [
    "df=[]\n",
    "for file in filename:\n",
    "    df.append(pd.read_csv(file))\n",
    "    "
   ]
  },
  {
   "cell_type": "code",
   "execution_count": 4,
   "metadata": {},
   "outputs": [
    {
     "name": "stderr",
     "output_type": "stream",
     "text": [
      "C:\\Users\\Mughilan_kumar\\Anaconda3\\lib\\site-packages\\ipykernel_launcher.py:1: FutureWarning: Sorting because non-concatenation axis is not aligned. A future version\n",
      "of pandas will change to not sort by default.\n",
      "\n",
      "To accept the future behavior, pass 'sort=False'.\n",
      "\n",
      "To retain the current behavior and silence the warning, pass 'sort=True'.\n",
      "\n",
      "  \"\"\"Entry point for launching an IPython kernel.\n"
     ]
    }
   ],
   "source": [
    "dataframe= pd.concat(df,ignore_index= True)"
   ]
  },
  {
   "cell_type": "code",
   "execution_count": 5,
   "metadata": {},
   "outputs": [
    {
     "name": "stdout",
     "output_type": "stream",
     "text": [
      "<class 'pandas.core.frame.DataFrame'>\n",
      "RangeIndex: 1757 entries, 0 to 1756\n",
      "Data columns (total 29 columns):\n",
      "Appearance         0 non-null float64\n",
      "City Name          1757 non-null object\n",
      "Color              716 non-null object\n",
      "Comments           0 non-null float64\n",
      "Commodity Name     1757 non-null object\n",
      "Condition          0 non-null float64\n",
      "Crop               0 non-null float64\n",
      "Date               1757 non-null object\n",
      "Environment        0 non-null float64\n",
      "Grade              0 non-null float64\n",
      "High Price         1757 non-null float64\n",
      "Item Size          1478 non-null object\n",
      "Low Price          1757 non-null float64\n",
      "Market Tone        103 non-null object\n",
      "Mostly High        1654 non-null float64\n",
      "Mostly Low         1654 non-null float64\n",
      "Offerings          0 non-null float64\n",
      "Origin             1752 non-null object\n",
      "Origin District    131 non-null object\n",
      "Package            1757 non-null object\n",
      "Price Comment      0 non-null float64\n",
      "Quality            0 non-null float64\n",
      "Repack             1757 non-null object\n",
      "Storage            0 non-null float64\n",
      "Sub Variety        296 non-null object\n",
      "Trans Mode         0 non-null float64\n",
      "Type               45 non-null object\n",
      "Unit of Sale       162 non-null object\n",
      "Variety            1752 non-null object\n",
      "dtypes: float64(15), object(14)\n",
      "memory usage: 398.1+ KB\n"
     ]
    }
   ],
   "source": [
    "dataframe.info()"
   ]
  },
  {
   "cell_type": "code",
   "execution_count": 6,
   "metadata": {},
   "outputs": [],
   "source": [
    "dataframe=dataframe.dropna(axis=1,how='all')"
   ]
  },
  {
   "cell_type": "code",
   "execution_count": 7,
   "metadata": {},
   "outputs": [
    {
     "name": "stdout",
     "output_type": "stream",
     "text": [
      "<class 'pandas.core.frame.DataFrame'>\n",
      "RangeIndex: 1757 entries, 0 to 1756\n",
      "Data columns (total 18 columns):\n",
      "City Name          1757 non-null object\n",
      "Color              716 non-null object\n",
      "Commodity Name     1757 non-null object\n",
      "Date               1757 non-null object\n",
      "High Price         1757 non-null float64\n",
      "Item Size          1478 non-null object\n",
      "Low Price          1757 non-null float64\n",
      "Market Tone        103 non-null object\n",
      "Mostly High        1654 non-null float64\n",
      "Mostly Low         1654 non-null float64\n",
      "Origin             1752 non-null object\n",
      "Origin District    131 non-null object\n",
      "Package            1757 non-null object\n",
      "Repack             1757 non-null object\n",
      "Sub Variety        296 non-null object\n",
      "Type               45 non-null object\n",
      "Unit of Sale       162 non-null object\n",
      "Variety            1752 non-null object\n",
      "dtypes: float64(4), object(14)\n",
      "memory usage: 247.2+ KB\n"
     ]
    }
   ],
   "source": [
    "dataframe.info()"
   ]
  },
  {
   "cell_type": "code",
   "execution_count": 8,
   "metadata": {},
   "outputs": [],
   "source": [
    "dataframe['Mostly High']= dataframe['Mostly High'].replace(np.nan,value= dataframe['High Price'])\n",
    "dataframe ['Mostly Low']= dataframe['Mostly Low'].replace(np.nan,value= dataframe['Low Price'])"
   ]
  },
  {
   "cell_type": "code",
   "execution_count": 9,
   "metadata": {},
   "outputs": [
    {
     "name": "stdout",
     "output_type": "stream",
     "text": [
      "<class 'pandas.core.frame.DataFrame'>\n",
      "RangeIndex: 1757 entries, 0 to 1756\n",
      "Data columns (total 18 columns):\n",
      "City Name          1757 non-null object\n",
      "Color              716 non-null object\n",
      "Commodity Name     1757 non-null object\n",
      "Date               1757 non-null object\n",
      "High Price         1757 non-null float64\n",
      "Item Size          1478 non-null object\n",
      "Low Price          1757 non-null float64\n",
      "Market Tone        103 non-null object\n",
      "Mostly High        1757 non-null float64\n",
      "Mostly Low         1757 non-null float64\n",
      "Origin             1752 non-null object\n",
      "Origin District    131 non-null object\n",
      "Package            1757 non-null object\n",
      "Repack             1757 non-null object\n",
      "Sub Variety        296 non-null object\n",
      "Type               45 non-null object\n",
      "Unit of Sale       162 non-null object\n",
      "Variety            1752 non-null object\n",
      "dtypes: float64(4), object(14)\n",
      "memory usage: 247.2+ KB\n"
     ]
    }
   ],
   "source": [
    "dataframe.info()"
   ]
  },
  {
   "cell_type": "code",
   "execution_count": 10,
   "metadata": {},
   "outputs": [],
   "source": [
    "city = dataframe[['City Name','Mostly High']]\n",
    "gb_city = city.groupby('City Name')"
   ]
  },
  {
   "cell_type": "code",
   "execution_count": 11,
   "metadata": {},
   "outputs": [],
   "source": [
    "average_high = gb_city.mean()"
   ]
  },
  {
   "cell_type": "code",
   "execution_count": 12,
   "metadata": {
    "scrolled": true
   },
   "outputs": [
    {
     "data": {
      "text/plain": [
       "<matplotlib.axes._subplots.AxesSubplot at 0x1cac9101940>"
      ]
     },
     "execution_count": 12,
     "metadata": {},
     "output_type": "execute_result"
    },
    {
     "data": {
      "image/png": "[encoded data removed]",
      "text/plain": [
       "<Figure size 1440x720 with 1 Axes>"
      ]
     },
     "metadata": {
      "needs_background": "light"
     },
     "output_type": "display_data"
    }
   ],
   "source": [
    "import matplotlib.pyplot as plt\n",
    "%matplotlib inline\n",
    "average_high.plot(kind='bar',figsize=(20,10))"
   ]
  },
  {
   "cell_type": "code",
   "execution_count": 13,
   "metadata": {},
   "outputs": [
    {
     "data": {
      "text/html": [
       "<div>\n",
       "<style scoped>\n",
       "    .dataframe tbody tr th:only-of-type {\n",
       "        vertical-align: middle;\n",
       "    }\n",
       "\n",
       "    .dataframe tbody tr th {\n",
       "        vertical-align: top;\n",
       "    }\n",
       "\n",
       "    .dataframe thead th {\n",
       "        text-align: right;\n",
       "    }\n",
       "</style>\n",
       "<table border=\"1\" class=\"dataframe\">\n",
       "  <thead>\n",
       "    <tr style=\"text-align: right;\">\n",
       "      <th></th>\n",
       "      <th>City Name</th>\n",
       "      <th>Color</th>\n",
       "      <th>Commodity Name</th>\n",
       "      <th>Date</th>\n",
       "      <th>High Price</th>\n",
       "      <th>Item Size</th>\n",
       "      <th>Low Price</th>\n",
       "      <th>Market Tone</th>\n",
       "      <th>Mostly High</th>\n",
       "      <th>Mostly Low</th>\n",
       "      <th>Origin</th>\n",
       "      <th>Origin District</th>\n",
       "      <th>Package</th>\n",
       "      <th>Repack</th>\n",
       "      <th>Sub Variety</th>\n",
       "      <th>Type</th>\n",
       "      <th>Unit of Sale</th>\n",
       "      <th>Variety</th>\n",
       "    </tr>\n",
       "  </thead>\n",
       "  <tbody>\n",
       "    <tr>\n",
       "      <th>0</th>\n",
       "      <td>ATLANTA</td>\n",
       "      <td>NaN</td>\n",
       "      <td>PUMPKINS</td>\n",
       "      <td>09/24/2016</td>\n",
       "      <td>154.75</td>\n",
       "      <td>jbo</td>\n",
       "      <td>140.0</td>\n",
       "      <td>NaN</td>\n",
       "      <td>154.75</td>\n",
       "      <td>140.0</td>\n",
       "      <td>MICHIGAN</td>\n",
       "      <td>NaN</td>\n",
       "      <td>24 inch bins</td>\n",
       "      <td>N</td>\n",
       "      <td>NaN</td>\n",
       "      <td>NaN</td>\n",
       "      <td>NaN</td>\n",
       "      <td>HOWDEN TYPE</td>\n",
       "    </tr>\n",
       "    <tr>\n",
       "      <th>1</th>\n",
       "      <td>ATLANTA</td>\n",
       "      <td>NaN</td>\n",
       "      <td>PUMPKINS</td>\n",
       "      <td>09/24/2016</td>\n",
       "      <td>154.75</td>\n",
       "      <td>xlge</td>\n",
       "      <td>145.0</td>\n",
       "      <td>NaN</td>\n",
       "      <td>154.75</td>\n",
       "      <td>145.0</td>\n",
       "      <td>MICHIGAN</td>\n",
       "      <td>NaN</td>\n",
       "      <td>24 inch bins</td>\n",
       "      <td>N</td>\n",
       "      <td>NaN</td>\n",
       "      <td>NaN</td>\n",
       "      <td>NaN</td>\n",
       "      <td>HOWDEN TYPE</td>\n",
       "    </tr>\n",
       "    <tr>\n",
       "      <th>2</th>\n",
       "      <td>ATLANTA</td>\n",
       "      <td>NaN</td>\n",
       "      <td>PUMPKINS</td>\n",
       "      <td>09/24/2016</td>\n",
       "      <td>154.75</td>\n",
       "      <td>med-lge</td>\n",
       "      <td>150.0</td>\n",
       "      <td>NaN</td>\n",
       "      <td>154.75</td>\n",
       "      <td>150.0</td>\n",
       "      <td>MICHIGAN</td>\n",
       "      <td>NaN</td>\n",
       "      <td>24 inch bins</td>\n",
       "      <td>N</td>\n",
       "      <td>NaN</td>\n",
       "      <td>NaN</td>\n",
       "      <td>NaN</td>\n",
       "      <td>HOWDEN TYPE</td>\n",
       "    </tr>\n",
       "    <tr>\n",
       "      <th>3</th>\n",
       "      <td>ATLANTA</td>\n",
       "      <td>NaN</td>\n",
       "      <td>PUMPKINS</td>\n",
       "      <td>09/24/2016</td>\n",
       "      <td>150.00</td>\n",
       "      <td>sml</td>\n",
       "      <td>150.0</td>\n",
       "      <td>NaN</td>\n",
       "      <td>150.00</td>\n",
       "      <td>150.0</td>\n",
       "      <td>MICHIGAN</td>\n",
       "      <td>NaN</td>\n",
       "      <td>24 inch bins</td>\n",
       "      <td>N</td>\n",
       "      <td>NaN</td>\n",
       "      <td>NaN</td>\n",
       "      <td>NaN</td>\n",
       "      <td>HOWDEN TYPE</td>\n",
       "    </tr>\n",
       "    <tr>\n",
       "      <th>4</th>\n",
       "      <td>ATLANTA</td>\n",
       "      <td>NaN</td>\n",
       "      <td>PUMPKINS</td>\n",
       "      <td>10/01/2016</td>\n",
       "      <td>154.75</td>\n",
       "      <td>jbo</td>\n",
       "      <td>140.0</td>\n",
       "      <td>NaN</td>\n",
       "      <td>154.75</td>\n",
       "      <td>140.0</td>\n",
       "      <td>MICHIGAN</td>\n",
       "      <td>NaN</td>\n",
       "      <td>24 inch bins</td>\n",
       "      <td>N</td>\n",
       "      <td>NaN</td>\n",
       "      <td>NaN</td>\n",
       "      <td>NaN</td>\n",
       "      <td>HOWDEN TYPE</td>\n",
       "    </tr>\n",
       "  </tbody>\n",
       "</table>\n",
       "</div>"
      ],
      "text/plain": [
       "  City Name Color Commodity Name        Date  High Price Item Size  Low Price  \\\n",
       "0   ATLANTA   NaN       PUMPKINS  09/24/2016      154.75       jbo      140.0   \n",
       "1   ATLANTA   NaN       PUMPKINS  09/24/2016      154.75      xlge      145.0   \n",
       "2   ATLANTA   NaN       PUMPKINS  09/24/2016      154.75   med-lge      150.0   \n",
       "3   ATLANTA   NaN       PUMPKINS  09/24/2016      150.00       sml      150.0   \n",
       "4   ATLANTA   NaN       PUMPKINS  10/01/2016      154.75       jbo      140.0   \n",
       "\n",
       "  Market Tone  Mostly High  Mostly Low    Origin Origin District  \\\n",
       "0         NaN       154.75       140.0  MICHIGAN             NaN   \n",
       "1         NaN       154.75       145.0  MICHIGAN             NaN   \n",
       "2         NaN       154.75       150.0  MICHIGAN             NaN   \n",
       "3         NaN       150.00       150.0  MICHIGAN             NaN   \n",
       "4         NaN       154.75       140.0  MICHIGAN             NaN   \n",
       "\n",
       "        Package Repack Sub Variety Type Unit of Sale      Variety  \n",
       "0  24 inch bins      N         NaN  NaN          NaN  HOWDEN TYPE  \n",
       "1  24 inch bins      N         NaN  NaN          NaN  HOWDEN TYPE  \n",
       "2  24 inch bins      N         NaN  NaN          NaN  HOWDEN TYPE  \n",
       "3  24 inch bins      N         NaN  NaN          NaN  HOWDEN TYPE  \n",
       "4  24 inch bins      N         NaN  NaN          NaN  HOWDEN TYPE  "
      ]
     },
     "execution_count": 13,
     "metadata": {},
     "output_type": "execute_result"
    }
   ],
   "source": [
    "dataframe.head()"
   ]
  },
  {
   "cell_type": "code",
   "execution_count": 14,
   "metadata": {},
   "outputs": [
    {
     "name": "stdout",
     "output_type": "stream",
     "text": [
      "<class 'pandas.core.frame.DataFrame'>\n",
      "RangeIndex: 1757 entries, 0 to 1756\n",
      "Data columns (total 18 columns):\n",
      "City Name          1757 non-null object\n",
      "Color              716 non-null object\n",
      "Commodity Name     1757 non-null object\n",
      "Date               1757 non-null object\n",
      "High Price         1757 non-null float64\n",
      "Item Size          1478 non-null object\n",
      "Low Price          1757 non-null float64\n",
      "Market Tone        103 non-null object\n",
      "Mostly High        1757 non-null float64\n",
      "Mostly Low         1757 non-null float64\n",
      "Origin             1752 non-null object\n",
      "Origin District    131 non-null object\n",
      "Package            1757 non-null object\n",
      "Repack             1757 non-null object\n",
      "Sub Variety        296 non-null object\n",
      "Type               45 non-null object\n",
      "Unit of Sale       162 non-null object\n",
      "Variety            1752 non-null object\n",
      "dtypes: float64(4), object(14)\n",
      "memory usage: 247.2+ KB\n"
     ]
    }
   ],
   "source": [
    "dataframe.info()"
   ]
  },
  {
   "cell_type": "code",
   "execution_count": 15,
   "metadata": {},
   "outputs": [
    {
     "data": {
      "text/html": [
       "<div>\n",
       "<style scoped>\n",
       "    .dataframe tbody tr th:only-of-type {\n",
       "        vertical-align: middle;\n",
       "    }\n",
       "\n",
       "    .dataframe tbody tr th {\n",
       "        vertical-align: top;\n",
       "    }\n",
       "\n",
       "    .dataframe thead th {\n",
       "        text-align: right;\n",
       "    }\n",
       "</style>\n",
       "<table border=\"1\" class=\"dataframe\">\n",
       "  <thead>\n",
       "    <tr style=\"text-align: right;\">\n",
       "      <th></th>\n",
       "      <th>Variety</th>\n",
       "      <th>Color</th>\n",
       "    </tr>\n",
       "  </thead>\n",
       "  <tbody>\n",
       "    <tr>\n",
       "      <th>80</th>\n",
       "      <td>HOWDEN TYPE</td>\n",
       "      <td>ORANGE</td>\n",
       "    </tr>\n",
       "    <tr>\n",
       "      <th>81</th>\n",
       "      <td>HOWDEN TYPE</td>\n",
       "      <td>ORANGE</td>\n",
       "    </tr>\n",
       "    <tr>\n",
       "      <th>82</th>\n",
       "      <td>HOWDEN TYPE</td>\n",
       "      <td>ORANGE</td>\n",
       "    </tr>\n",
       "    <tr>\n",
       "      <th>83</th>\n",
       "      <td>HOWDEN TYPE</td>\n",
       "      <td>ORANGE</td>\n",
       "    </tr>\n",
       "    <tr>\n",
       "      <th>144</th>\n",
       "      <td>PIE TYPE</td>\n",
       "      <td>ORANGE</td>\n",
       "    </tr>\n",
       "  </tbody>\n",
       "</table>\n",
       "</div>"
      ],
      "text/plain": [
       "         Variety   Color\n",
       "80   HOWDEN TYPE  ORANGE\n",
       "81   HOWDEN TYPE  ORANGE\n",
       "82   HOWDEN TYPE  ORANGE\n",
       "83   HOWDEN TYPE  ORANGE\n",
       "144     PIE TYPE  ORANGE"
      ]
     },
     "execution_count": 15,
     "metadata": {},
     "output_type": "execute_result"
    }
   ],
   "source": [
    "color_withnull = dataframe[['Variety','Color']]\n",
    "color = color_withnull.dropna()\n",
    "color.head()"
   ]
  },
  {
   "cell_type": "code",
   "execution_count": 16,
   "metadata": {},
   "outputs": [
    {
     "data": {
      "text/plain": [
       "array(['HOWDEN TYPE', 'HOWDEN TYPE', 'HOWDEN TYPE', 'HOWDEN TYPE',\n",
       "       'PIE TYPE', 'PIE TYPE', 'PIE TYPE', 'PIE TYPE', 'PIE TYPE',\n",
       "       'PIE TYPE', 'PIE TYPE', 'PIE TYPE', 'BIG MACK TYPE',\n",
       "       'BIG MACK TYPE', 'BIG MACK TYPE', 'BIG MACK TYPE', 'BIG MACK TYPE',\n",
       "       'BIG MACK TYPE', 'BIG MACK TYPE', 'BIG MACK TYPE', 'MINIATURE',\n",
       "       'MINIATURE', 'MINIATURE', 'MINIATURE', 'MINIATURE', 'MINIATURE',\n",
       "       'MINIATURE', 'MINIATURE', 'MINIATURE', 'MINIATURE', 'MINIATURE',\n",
       "       'HOWDEN TYPE', 'HOWDEN TYPE', 'HOWDEN TYPE', 'HOWDEN TYPE',\n",
       "       'HOWDEN TYPE', 'HOWDEN TYPE', 'HOWDEN TYPE', 'HOWDEN TYPE',\n",
       "       'HOWDEN TYPE', 'HOWDEN TYPE', 'HOWDEN TYPE', 'HOWDEN TYPE',\n",
       "       'HOWDEN TYPE', 'HOWDEN TYPE', 'HOWDEN TYPE', 'HOWDEN TYPE',\n",
       "       'HOWDEN TYPE', 'HOWDEN TYPE', 'HOWDEN TYPE', 'HOWDEN TYPE',\n",
       "       'HOWDEN TYPE', 'HOWDEN TYPE', 'HOWDEN TYPE', 'HOWDEN TYPE',\n",
       "       'HOWDEN TYPE', 'HOWDEN TYPE', 'HOWDEN TYPE', 'HOWDEN TYPE',\n",
       "       'HOWDEN TYPE', 'HOWDEN TYPE', 'HOWDEN TYPE', 'HOWDEN TYPE',\n",
       "       'HOWDEN TYPE', 'HOWDEN TYPE', 'HOWDEN TYPE', 'HOWDEN TYPE',\n",
       "       'HOWDEN TYPE', 'HOWDEN TYPE', 'HOWDEN TYPE', 'HOWDEN TYPE',\n",
       "       'HOWDEN TYPE', 'HOWDEN TYPE', 'HOWDEN TYPE', 'HOWDEN TYPE',\n",
       "       'HOWDEN TYPE', 'HOWDEN TYPE', 'HOWDEN TYPE', 'HOWDEN TYPE',\n",
       "       'HOWDEN TYPE', 'HOWDEN TYPE', 'HOWDEN TYPE', 'HOWDEN TYPE',\n",
       "       'HOWDEN TYPE', 'HOWDEN TYPE', 'HOWDEN TYPE', 'HOWDEN TYPE',\n",
       "       'HOWDEN TYPE', 'HOWDEN TYPE', 'HOWDEN TYPE', 'HOWDEN TYPE',\n",
       "       'HOWDEN TYPE', 'HOWDEN TYPE', 'HOWDEN TYPE', 'HOWDEN TYPE',\n",
       "       'HOWDEN TYPE', 'HOWDEN TYPE', 'HOWDEN TYPE', 'HOWDEN TYPE',\n",
       "       'HOWDEN TYPE', 'HOWDEN TYPE', 'HOWDEN TYPE', 'HOWDEN TYPE',\n",
       "       'HOWDEN TYPE', 'HOWDEN TYPE', 'HOWDEN TYPE', 'HOWDEN TYPE',\n",
       "       'HOWDEN TYPE', 'HOWDEN TYPE', 'HOWDEN TYPE', 'HOWDEN TYPE',\n",
       "       'HOWDEN TYPE', 'HOWDEN TYPE', 'HOWDEN TYPE', 'HOWDEN TYPE',\n",
       "       'HOWDEN TYPE', 'HOWDEN TYPE', 'HOWDEN TYPE', 'HOWDEN TYPE',\n",
       "       'HOWDEN TYPE', 'HOWDEN TYPE', 'HOWDEN TYPE', 'HOWDEN TYPE',\n",
       "       'HOWDEN TYPE', 'HOWDEN TYPE', 'HOWDEN TYPE', 'HOWDEN TYPE',\n",
       "       'HOWDEN TYPE', 'HOWDEN TYPE', 'HOWDEN TYPE', 'HOWDEN TYPE',\n",
       "       'HOWDEN TYPE', 'HOWDEN TYPE', 'HOWDEN TYPE', 'HOWDEN TYPE',\n",
       "       'HOWDEN TYPE', 'HOWDEN TYPE', 'HOWDEN TYPE', 'HOWDEN TYPE',\n",
       "       'HOWDEN TYPE', 'HOWDEN TYPE', 'HOWDEN TYPE', 'HOWDEN TYPE',\n",
       "       'HOWDEN TYPE', 'HOWDEN TYPE', 'HOWDEN TYPE', 'HOWDEN TYPE',\n",
       "       'HOWDEN TYPE', 'HOWDEN TYPE', 'HOWDEN TYPE', 'HOWDEN TYPE',\n",
       "       'CINDERELLA', 'CINDERELLA', 'CINDERELLA', 'CINDERELLA',\n",
       "       'CINDERELLA', 'CINDERELLA', 'CINDERELLA', 'CINDERELLA',\n",
       "       'CINDERELLA', 'CINDERELLA', 'CINDERELLA', 'CINDERELLA',\n",
       "       'CINDERELLA', 'CINDERELLA', 'FAIRYTALE', 'FAIRYTALE', 'FAIRYTALE',\n",
       "       'FAIRYTALE', 'FAIRYTALE', 'FAIRYTALE', 'FAIRYTALE', 'FAIRYTALE',\n",
       "       'FAIRYTALE', 'FAIRYTALE', 'FAIRYTALE', 'FAIRYTALE', 'FAIRYTALE',\n",
       "       'FAIRYTALE', 'FAIRYTALE', 'FAIRYTALE', 'FAIRYTALE', 'FAIRYTALE',\n",
       "       'FAIRYTALE', 'FAIRYTALE', 'FAIRYTALE', 'PIE TYPE', 'PIE TYPE',\n",
       "       'PIE TYPE', 'PIE TYPE', 'PIE TYPE', 'PIE TYPE', 'PIE TYPE',\n",
       "       'PIE TYPE', 'PIE TYPE', 'PIE TYPE', 'PIE TYPE', 'PIE TYPE',\n",
       "       'PIE TYPE', 'PIE TYPE', 'PIE TYPE', 'PIE TYPE', 'PIE TYPE',\n",
       "       'PIE TYPE', 'PIE TYPE', 'PIE TYPE', 'PIE TYPE', 'PIE TYPE',\n",
       "       'PIE TYPE', 'PIE TYPE', 'PIE TYPE', 'PIE TYPE', 'PIE TYPE',\n",
       "       'PIE TYPE', 'PIE TYPE', 'PIE TYPE', 'PIE TYPE', 'PIE TYPE',\n",
       "       'PIE TYPE', 'PIE TYPE', 'PIE TYPE', 'PIE TYPE', 'PIE TYPE',\n",
       "       'PIE TYPE', 'PIE TYPE', 'PIE TYPE', 'PIE TYPE', 'PIE TYPE',\n",
       "       'PIE TYPE', 'PIE TYPE', 'PIE TYPE', 'PIE TYPE', 'PIE TYPE',\n",
       "       'PIE TYPE', 'PIE TYPE', 'PIE TYPE', 'PIE TYPE', 'PIE TYPE',\n",
       "       'PIE TYPE', 'PIE TYPE', 'PIE TYPE', 'PIE TYPE', 'PIE TYPE',\n",
       "       'PIE TYPE', 'PIE TYPE', 'PIE TYPE', 'PIE TYPE', 'PIE TYPE',\n",
       "       'PIE TYPE', 'PIE TYPE', 'PIE TYPE', 'PIE TYPE', 'PIE TYPE',\n",
       "       'PIE TYPE', 'PIE TYPE', 'PIE TYPE', 'PIE TYPE', 'PIE TYPE',\n",
       "       'PIE TYPE', 'PIE TYPE', 'PIE TYPE', 'PIE TYPE', 'PIE TYPE',\n",
       "       'PIE TYPE', 'PIE TYPE', 'PIE TYPE', 'PIE TYPE', 'PIE TYPE',\n",
       "       'PIE TYPE', 'PIE TYPE', 'PIE TYPE', 'PIE TYPE', 'PIE TYPE',\n",
       "       'PIE TYPE', 'PIE TYPE', 'PIE TYPE', 'PIE TYPE', 'PIE TYPE',\n",
       "       'PIE TYPE', 'PIE TYPE', 'PIE TYPE', 'PIE TYPE', 'PIE TYPE',\n",
       "       'PIE TYPE', 'PIE TYPE', 'PIE TYPE', 'BLUE TYPE', 'BLUE TYPE',\n",
       "       'BLUE TYPE', 'BLUE TYPE', 'BLUE TYPE', 'BLUE TYPE', 'BLUE TYPE',\n",
       "       'KNUCKLE HEAD', 'KNUCKLE HEAD', 'KNUCKLE HEAD', 'KNUCKLE HEAD',\n",
       "       'KNUCKLE HEAD', 'KNUCKLE HEAD', 'KNUCKLE HEAD', 'BIG MACK TYPE',\n",
       "       'BIG MACK TYPE', 'BIG MACK TYPE', 'BIG MACK TYPE', 'BIG MACK TYPE',\n",
       "       'BIG MACK TYPE', 'BIG MACK TYPE', 'MINIATURE', 'MINIATURE',\n",
       "       'MINIATURE', 'MINIATURE', 'MINIATURE', 'MINIATURE', 'MINIATURE',\n",
       "       'MINIATURE', 'MINIATURE', 'MINIATURE', 'MINIATURE', 'MINIATURE',\n",
       "       'MINIATURE', 'MINIATURE', 'MINIATURE', 'MINIATURE', 'MINIATURE',\n",
       "       'MINIATURE', 'MINIATURE', 'MINIATURE', 'MINIATURE', 'MINIATURE',\n",
       "       'MINIATURE', 'MINIATURE', 'MINIATURE', 'MINIATURE', 'MINIATURE',\n",
       "       'MINIATURE', 'HOWDEN TYPE', 'HOWDEN TYPE', 'HOWDEN TYPE',\n",
       "       'HOWDEN TYPE', 'HOWDEN TYPE', 'HOWDEN TYPE', 'MINIATURE',\n",
       "       'MINIATURE', 'MINIATURE', 'MINIATURE', 'MINIATURE', 'MINIATURE',\n",
       "       'MINIATURE', 'MINIATURE', 'MINIATURE', 'MINIATURE', 'MINIATURE',\n",
       "       'MINIATURE', 'MINIATURE', 'MINIATURE', 'MINIATURE', 'MINIATURE',\n",
       "       'MINIATURE', 'MINIATURE', 'MINIATURE', 'MINIATURE', 'MINIATURE',\n",
       "       'MINIATURE', 'MINIATURE', 'MINIATURE', 'MINIATURE', 'MINIATURE',\n",
       "       'MINIATURE', 'MINIATURE', 'MINIATURE', 'MINIATURE', 'MINIATURE',\n",
       "       'MINIATURE', 'MINIATURE', 'MINIATURE', 'MINIATURE', 'MINIATURE',\n",
       "       'HOWDEN TYPE', 'HOWDEN TYPE', 'HOWDEN TYPE', 'HOWDEN TYPE',\n",
       "       'HOWDEN TYPE', 'HOWDEN TYPE', 'HOWDEN TYPE', 'HOWDEN TYPE',\n",
       "       'HOWDEN TYPE', 'HOWDEN TYPE', 'HOWDEN TYPE', 'HOWDEN TYPE',\n",
       "       'HOWDEN TYPE', 'HOWDEN TYPE', 'HOWDEN TYPE', 'HOWDEN TYPE',\n",
       "       'HOWDEN TYPE', 'HOWDEN TYPE', 'HOWDEN TYPE', 'HOWDEN TYPE',\n",
       "       'HOWDEN TYPE', 'HOWDEN TYPE', 'HOWDEN TYPE', 'HOWDEN TYPE',\n",
       "       'HOWDEN TYPE', 'HOWDEN TYPE', 'HOWDEN TYPE', 'HOWDEN TYPE',\n",
       "       'HOWDEN TYPE', 'HOWDEN TYPE', 'HOWDEN TYPE', 'HOWDEN TYPE',\n",
       "       'HOWDEN TYPE', 'HOWDEN TYPE', 'HOWDEN TYPE', 'HOWDEN TYPE',\n",
       "       'HOWDEN TYPE', 'HOWDEN TYPE', 'HOWDEN TYPE', 'HOWDEN TYPE',\n",
       "       'HOWDEN TYPE', 'HOWDEN TYPE', 'HOWDEN TYPE', 'HOWDEN TYPE',\n",
       "       'HOWDEN TYPE', 'HOWDEN TYPE', 'HOWDEN TYPE', 'HOWDEN TYPE',\n",
       "       'HOWDEN TYPE', 'HOWDEN TYPE', 'HOWDEN TYPE', 'HOWDEN TYPE',\n",
       "       'HOWDEN TYPE', 'HOWDEN TYPE', 'HOWDEN TYPE', 'HOWDEN TYPE',\n",
       "       'HOWDEN TYPE', 'HOWDEN TYPE', 'HOWDEN TYPE', 'HOWDEN TYPE',\n",
       "       'HOWDEN TYPE', 'HOWDEN TYPE', 'HOWDEN TYPE', 'HOWDEN TYPE',\n",
       "       'HOWDEN TYPE', 'HOWDEN TYPE', 'HOWDEN TYPE', 'HOWDEN TYPE',\n",
       "       'PIE TYPE', 'PIE TYPE', 'PIE TYPE', 'PIE TYPE', 'PIE TYPE',\n",
       "       'PIE TYPE', 'PIE TYPE', 'PIE TYPE', 'PIE TYPE', 'PIE TYPE',\n",
       "       'PIE TYPE', 'PIE TYPE', 'PIE TYPE', 'PIE TYPE', 'PIE TYPE',\n",
       "       'PIE TYPE', 'PIE TYPE', 'PIE TYPE', 'PIE TYPE', 'PIE TYPE',\n",
       "       'PIE TYPE', 'PIE TYPE', 'PIE TYPE', 'PIE TYPE', 'PIE TYPE',\n",
       "       'PIE TYPE', 'PIE TYPE', 'PIE TYPE', 'PIE TYPE', 'PIE TYPE',\n",
       "       'PIE TYPE', 'PIE TYPE', 'PIE TYPE', 'PIE TYPE', 'PIE TYPE',\n",
       "       'PIE TYPE', 'PIE TYPE', 'PIE TYPE', 'PIE TYPE', 'MINIATURE',\n",
       "       'MINIATURE', 'MINIATURE', 'MINIATURE', 'MINIATURE', 'MINIATURE',\n",
       "       'MINIATURE', 'MINIATURE', 'MINIATURE', 'MINIATURE', 'MINIATURE',\n",
       "       'MINIATURE', 'MINIATURE', 'MINIATURE', 'MINIATURE', 'MINIATURE',\n",
       "       'MINIATURE', 'MINIATURE', 'MINIATURE', 'MINIATURE', 'MINIATURE',\n",
       "       'MINIATURE', 'MINIATURE', 'MINIATURE', 'MINIATURE', 'MINIATURE',\n",
       "       'MINIATURE', 'MINIATURE', 'MINIATURE', 'MINIATURE', 'MINIATURE',\n",
       "       'MINIATURE', 'MINIATURE', 'MINIATURE', 'MINIATURE', 'MINIATURE',\n",
       "       'MINIATURE', 'MINIATURE', 'MINIATURE', 'MINIATURE', 'MINIATURE',\n",
       "       'MINIATURE', 'MINIATURE', 'MINIATURE', 'MINIATURE', 'MINIATURE',\n",
       "       'MINIATURE', 'MINIATURE', 'MINIATURE', 'MINIATURE', 'MINIATURE',\n",
       "       'MINIATURE', 'MINIATURE', 'MINIATURE', 'PIE TYPE', 'PIE TYPE',\n",
       "       'HOWDEN WHITE TYPE', 'HOWDEN WHITE TYPE', 'PIE TYPE', 'PIE TYPE',\n",
       "       'PIE TYPE', 'PIE TYPE', 'PIE TYPE', 'PIE TYPE', 'PIE TYPE',\n",
       "       'PIE TYPE', 'PIE TYPE', 'PIE TYPE', 'PIE TYPE', 'PIE TYPE',\n",
       "       'PIE TYPE', 'PIE TYPE', 'PIE TYPE', 'PIE TYPE', 'BIG MACK TYPE',\n",
       "       'MINIATURE', 'MINIATURE', 'MINIATURE', 'MINIATURE', 'MINIATURE',\n",
       "       'MINIATURE', 'PIE TYPE', 'PIE TYPE', 'PIE TYPE', 'PIE TYPE',\n",
       "       'PIE TYPE', 'PIE TYPE', 'PIE TYPE', 'PIE TYPE', 'PIE TYPE',\n",
       "       'PIE TYPE', 'PIE TYPE', 'PIE TYPE', 'MINIATURE', 'MINIATURE',\n",
       "       'MINIATURE', 'MINIATURE', 'MINIATURE', 'MINIATURE', 'MINIATURE',\n",
       "       'MINIATURE', 'MINIATURE', 'HOWDEN TYPE', 'MINIATURE', 'MINIATURE',\n",
       "       'MINIATURE', 'MINIATURE', 'MINIATURE', 'MINIATURE', 'MINIATURE',\n",
       "       'MINIATURE', 'MINIATURE', 'MINIATURE', 'MINIATURE', 'MINIATURE',\n",
       "       'MINIATURE', 'MINIATURE', 'MINIATURE', 'MINIATURE', 'MINIATURE',\n",
       "       'MINIATURE', 'MINIATURE', 'MINIATURE', 'MINIATURE', 'MINIATURE',\n",
       "       'MINIATURE', 'MINIATURE', 'MINIATURE', 'MINIATURE', 'MINIATURE',\n",
       "       'MINIATURE', 'MINIATURE', 'MINIATURE', 'MINIATURE', 'MINIATURE',\n",
       "       'MINIATURE', 'MINIATURE', 'MINIATURE', 'MINIATURE', 'MINIATURE',\n",
       "       'MINIATURE', 'MINIATURE', 'MINIATURE', 'MINIATURE', 'MINIATURE',\n",
       "       'MINIATURE', 'MINIATURE', 'MINIATURE', 'HOWDEN TYPE',\n",
       "       'HOWDEN TYPE', 'HOWDEN TYPE', 'HOWDEN TYPE', 'HOWDEN TYPE',\n",
       "       'HOWDEN TYPE', 'HOWDEN TYPE', 'HOWDEN TYPE', 'HOWDEN TYPE',\n",
       "       'HOWDEN TYPE', 'HOWDEN TYPE', 'HOWDEN TYPE', 'HOWDEN TYPE',\n",
       "       'HOWDEN TYPE', 'HOWDEN TYPE', 'HOWDEN TYPE', 'HOWDEN TYPE',\n",
       "       'HOWDEN TYPE', 'HOWDEN TYPE', 'HOWDEN TYPE', 'HOWDEN TYPE',\n",
       "       'HOWDEN TYPE', 'HOWDEN TYPE', 'HOWDEN TYPE', 'HOWDEN TYPE',\n",
       "       'HOWDEN TYPE', 'HOWDEN TYPE', 'HOWDEN TYPE', 'HOWDEN TYPE',\n",
       "       'HOWDEN TYPE', 'HOWDEN TYPE', 'HOWDEN TYPE', 'HOWDEN TYPE',\n",
       "       'HOWDEN TYPE', 'HOWDEN TYPE', 'HOWDEN TYPE', 'HOWDEN TYPE',\n",
       "       'HOWDEN TYPE', 'HOWDEN TYPE', 'HOWDEN TYPE', 'PIE TYPE',\n",
       "       'PIE TYPE', 'PIE TYPE', 'PIE TYPE', 'PIE TYPE', 'PIE TYPE',\n",
       "       'PIE TYPE', 'PIE TYPE', 'PIE TYPE', 'PIE TYPE', 'MINIATURE',\n",
       "       'MINIATURE', 'MINIATURE', 'MINIATURE', 'MINIATURE', 'MINIATURE',\n",
       "       'MINIATURE', 'MINIATURE', 'MINIATURE', 'MINIATURE', 'MINIATURE',\n",
       "       'MINIATURE', 'MINIATURE', 'MINIATURE', 'MINIATURE', 'MINIATURE',\n",
       "       'MINIATURE', 'MINIATURE', 'MINIATURE', 'MINIATURE', 'MINIATURE',\n",
       "       'MINIATURE', 'MINIATURE', 'MINIATURE', 'MINIATURE', 'MINIATURE',\n",
       "       'MINIATURE', 'MINIATURE', 'MINIATURE', 'MINIATURE', 'MINIATURE',\n",
       "       'MINIATURE', 'MINIATURE', 'MINIATURE'], dtype=object)"
      ]
     },
     "execution_count": 16,
     "metadata": {},
     "output_type": "execute_result"
    }
   ],
   "source": [
    "x= color.iloc[:,0].values\n",
    "y = color.iloc[:,-1].values\n",
    "x"
   ]
  },
  {
   "cell_type": "code",
   "execution_count": 17,
   "metadata": {},
   "outputs": [
    {
     "data": {
      "text/plain": [
       "array([4, 4, 4, 4, 8, 8, 8, 8, 8, 8, 8, 8, 0, 0, 0, 0, 0, 0, 0, 0, 7, 7,\n",
       "       7, 7, 7, 7, 7, 7, 7, 7, 7, 4, 4, 4, 4, 4, 4, 4, 4, 4, 4, 4, 4, 4,\n",
       "       4, 4, 4, 4, 4, 4, 4, 4, 4, 4, 4, 4, 4, 4, 4, 4, 4, 4, 4, 4, 4, 4,\n",
       "       4, 4, 4, 4, 4, 4, 4, 4, 4, 4, 4, 4, 4, 4, 4, 4, 4, 4, 4, 4, 4, 4,\n",
       "       4, 4, 4, 4, 4, 4, 4, 4, 4, 4, 4, 4, 4, 4, 4, 4, 4, 4, 4, 4, 4, 4,\n",
       "       4, 4, 4, 4, 4, 4, 4, 4, 4, 4, 4, 4, 4, 4, 4, 4, 4, 4, 4, 4, 4, 4,\n",
       "       4, 4, 4, 4, 4, 4, 4, 4, 4, 4, 4, 4, 4, 4, 4, 4, 4, 4, 4, 2, 2, 2,\n",
       "       2, 2, 2, 2, 2, 2, 2, 2, 2, 2, 2, 3, 3, 3, 3, 3, 3, 3, 3, 3, 3, 3,\n",
       "       3, 3, 3, 3, 3, 3, 3, 3, 3, 3, 8, 8, 8, 8, 8, 8, 8, 8, 8, 8, 8, 8,\n",
       "       8, 8, 8, 8, 8, 8, 8, 8, 8, 8, 8, 8, 8, 8, 8, 8, 8, 8, 8, 8, 8, 8,\n",
       "       8, 8, 8, 8, 8, 8, 8, 8, 8, 8, 8, 8, 8, 8, 8, 8, 8, 8, 8, 8, 8, 8,\n",
       "       8, 8, 8, 8, 8, 8, 8, 8, 8, 8, 8, 8, 8, 8, 8, 8, 8, 8, 8, 8, 8, 8,\n",
       "       8, 8, 8, 8, 8, 8, 8, 8, 8, 8, 8, 8, 8, 8, 8, 8, 8, 8, 8, 8, 8, 8,\n",
       "       1, 1, 1, 1, 1, 1, 1, 6, 6, 6, 6, 6, 6, 6, 0, 0, 0, 0, 0, 0, 0, 7,\n",
       "       7, 7, 7, 7, 7, 7, 7, 7, 7, 7, 7, 7, 7, 7, 7, 7, 7, 7, 7, 7, 7, 7,\n",
       "       7, 7, 7, 7, 7, 4, 4, 4, 4, 4, 4, 7, 7, 7, 7, 7, 7, 7, 7, 7, 7, 7,\n",
       "       7, 7, 7, 7, 7, 7, 7, 7, 7, 7, 7, 7, 7, 7, 7, 7, 7, 7, 7, 7, 7, 7,\n",
       "       7, 7, 7, 4, 4, 4, 4, 4, 4, 4, 4, 4, 4, 4, 4, 4, 4, 4, 4, 4, 4, 4,\n",
       "       4, 4, 4, 4, 4, 4, 4, 4, 4, 4, 4, 4, 4, 4, 4, 4, 4, 4, 4, 4, 4, 4,\n",
       "       4, 4, 4, 4, 4, 4, 4, 4, 4, 4, 4, 4, 4, 4, 4, 4, 4, 4, 4, 4, 4, 4,\n",
       "       4, 4, 4, 4, 4, 8, 8, 8, 8, 8, 8, 8, 8, 8, 8, 8, 8, 8, 8, 8, 8, 8,\n",
       "       8, 8, 8, 8, 8, 8, 8, 8, 8, 8, 8, 8, 8, 8, 8, 8, 8, 8, 8, 8, 8, 8,\n",
       "       7, 7, 7, 7, 7, 7, 7, 7, 7, 7, 7, 7, 7, 7, 7, 7, 7, 7, 7, 7, 7, 7,\n",
       "       7, 7, 7, 7, 7, 7, 7, 7, 7, 7, 7, 7, 7, 7, 7, 7, 7, 7, 7, 7, 7, 7,\n",
       "       7, 7, 7, 7, 7, 7, 7, 7, 7, 7, 8, 8, 5, 5, 8, 8, 8, 8, 8, 8, 8, 8,\n",
       "       8, 8, 8, 8, 8, 8, 8, 8, 0, 7, 7, 7, 7, 7, 7, 8, 8, 8, 8, 8, 8, 8,\n",
       "       8, 8, 8, 8, 8, 7, 7, 7, 7, 7, 7, 7, 7, 7, 4, 7, 7, 7, 7, 7, 7, 7,\n",
       "       7, 7, 7, 7, 7, 7, 7, 7, 7, 7, 7, 7, 7, 7, 7, 7, 7, 7, 7, 7, 7, 7,\n",
       "       7, 7, 7, 7, 7, 7, 7, 7, 7, 7, 7, 7, 7, 7, 7, 7, 4, 4, 4, 4, 4, 4,\n",
       "       4, 4, 4, 4, 4, 4, 4, 4, 4, 4, 4, 4, 4, 4, 4, 4, 4, 4, 4, 4, 4, 4,\n",
       "       4, 4, 4, 4, 4, 4, 4, 4, 4, 4, 4, 4, 8, 8, 8, 8, 8, 8, 8, 8, 8, 8,\n",
       "       7, 7, 7, 7, 7, 7, 7, 7, 7, 7, 7, 7, 7, 7, 7, 7, 7, 7, 7, 7, 7, 7,\n",
       "       7, 7, 7, 7, 7, 7, 7, 7, 7, 7, 7, 7], dtype=object)"
      ]
     },
     "execution_count": 17,
     "metadata": {},
     "output_type": "execute_result"
    }
   ],
   "source": [
    "from sklearn.preprocessing import LabelEncoder\n",
    "le = LabelEncoder()\n",
    "x[:]= le.fit_transform(x[:])\n",
    "x"
   ]
  },
  {
   "cell_type": "code",
   "execution_count": 18,
   "metadata": {},
   "outputs": [],
   "source": [
    "x = x.reshape(-1,1)"
   ]
  },
  {
   "cell_type": "code",
   "execution_count": 19,
   "metadata": {},
   "outputs": [
    {
     "data": {
      "text/plain": [
       "array([[0., 0., 0., ..., 0., 0., 0.],\n",
       "       [0., 0., 0., ..., 0., 0., 0.],\n",
       "       [0., 0., 0., ..., 0., 0., 0.],\n",
       "       ...,\n",
       "       [0., 0., 0., ..., 0., 1., 0.],\n",
       "       [0., 0., 0., ..., 0., 1., 0.],\n",
       "       [0., 0., 0., ..., 0., 1., 0.]])"
      ]
     },
     "execution_count": 19,
     "metadata": {},
     "output_type": "execute_result"
    }
   ],
   "source": [
    "from sklearn.preprocessing import OneHotEncoder\n",
    "oh = OneHotEncoder()\n",
    "x= oh.fit_transform(x).toarray()\n",
    "x"
   ]
  },
  {
   "cell_type": "code",
   "execution_count": 20,
   "metadata": {},
   "outputs": [],
   "source": [
    "from sklearn.model_selection import train_test_split\n",
    "x_train,x_test,y_train,y_test=train_test_split(x,y,test_size=0.25)"
   ]
  },
  {
   "cell_type": "code",
   "execution_count": 21,
   "metadata": {},
   "outputs": [
    {
     "data": {
      "text/plain": [
       "537"
      ]
     },
     "execution_count": 21,
     "metadata": {},
     "output_type": "execute_result"
    }
   ],
   "source": [
    "len(x_train)"
   ]
  },
  {
   "cell_type": "code",
   "execution_count": 22,
   "metadata": {},
   "outputs": [
    {
     "data": {
      "text/plain": [
       "537"
      ]
     },
     "execution_count": 22,
     "metadata": {},
     "output_type": "execute_result"
    }
   ],
   "source": [
    "len(y_train)"
   ]
  },
  {
   "cell_type": "code",
   "execution_count": 23,
   "metadata": {},
   "outputs": [
    {
     "data": {
      "text/plain": [
       "179"
      ]
     },
     "execution_count": 23,
     "metadata": {},
     "output_type": "execute_result"
    }
   ],
   "source": [
    "len(x_test)"
   ]
  },
  {
   "cell_type": "code",
   "execution_count": 24,
   "metadata": {},
   "outputs": [
    {
     "data": {
      "text/plain": [
       "179"
      ]
     },
     "execution_count": 24,
     "metadata": {},
     "output_type": "execute_result"
    }
   ],
   "source": [
    "len(y_test)"
   ]
  },
  {
   "cell_type": "code",
   "execution_count": 25,
   "metadata": {},
   "outputs": [],
   "source": [
    "from sklearn.tree import DecisionTreeClassifier\n",
    "classifier=DecisionTreeClassifier(criterion='gini',random_state=0)"
   ]
  },
  {
   "cell_type": "code",
   "execution_count": 26,
   "metadata": {},
   "outputs": [
    {
     "data": {
      "text/plain": [
       "DecisionTreeClassifier(class_weight=None, criterion='gini', max_depth=None,\n",
       "            max_features=None, max_leaf_nodes=None,\n",
       "            min_impurity_decrease=0.0, min_impurity_split=None,\n",
       "            min_samples_leaf=1, min_samples_split=2,\n",
       "            min_weight_fraction_leaf=0.0, presort=False, random_state=0,\n",
       "            splitter='best')"
      ]
     },
     "execution_count": 26,
     "metadata": {},
     "output_type": "execute_result"
    }
   ],
   "source": [
    "classifier.fit(x_train,y_train)"
   ]
  },
  {
   "cell_type": "code",
   "execution_count": 27,
   "metadata": {},
   "outputs": [],
   "source": [
    "predict = classifier.predict(x_test)"
   ]
  },
  {
   "cell_type": "code",
   "execution_count": 28,
   "metadata": {},
   "outputs": [
    {
     "data": {
      "text/plain": [
       "0.7988826815642458"
      ]
     },
     "execution_count": 28,
     "metadata": {},
     "output_type": "execute_result"
    }
   ],
   "source": [
    "from sklearn.metrics import accuracy_score\n",
    "cm = accuracy_score(y_test,predict)\n",
    "cm"
   ]
  },
  {
   "cell_type": "code",
   "execution_count": null,
   "metadata": {},
   "outputs": [],
   "source": []
  },
  {
   "cell_type": "code",
   "execution_count": null,
   "metadata": {},
   "outputs": [],
   "source": []
  }
 ],
 "metadata": {
  "kernelspec": {
   "display_name": "Python 3",
   "language": "python",
   "name": "python3"
  },
  "language_info": {
   "codemirror_mode": {
    "name": "ipython",
    "version": 3
   },
   "file_extension": ".py",
   "mimetype": "text/x-python",
   "name": "python",
   "nbconvert_exporter": "python",
   "pygments_lexer": "ipython3",
   "version": "3.7.0"
  }
 },
 "nbformat": 4,
 "nbformat_minor": 2
}
