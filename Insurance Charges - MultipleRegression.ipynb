{
 "cells": [
  {
   "cell_type": "code",
   "execution_count": 1,
   "metadata": {},
   "outputs": [
    {
     "name": "stdout",
     "output_type": "stream",
     "text": [
      "['.ipynb_checkpoints', 'insurance.csv', 'Untitled.ipynb']\n"
     ]
    }
   ],
   "source": [
    "import numpy as np\n",
    "import pandas as pd\n",
    "import matplotlib.pyplot as plt\n",
    "%matplotlib inline\n",
    "import os\n",
    "print(os.listdir())"
   ]
  },
  {
   "cell_type": "code",
   "execution_count": 2,
   "metadata": {},
   "outputs": [
    {
     "data": {
      "text/html": [
       "<div>\n",
       "<style scoped>\n",
       "    .dataframe tbody tr th:only-of-type {\n",
       "        vertical-align: middle;\n",
       "    }\n",
       "\n",
       "    .dataframe tbody tr th {\n",
       "        vertical-align: top;\n",
       "    }\n",
       "\n",
       "    .dataframe thead th {\n",
       "        text-align: right;\n",
       "    }\n",
       "</style>\n",
       "<table border=\"1\" class=\"dataframe\">\n",
       "  <thead>\n",
       "    <tr style=\"text-align: right;\">\n",
       "      <th></th>\n",
       "      <th>age</th>\n",
       "      <th>sex</th>\n",
       "      <th>bmi</th>\n",
       "      <th>children</th>\n",
       "      <th>smoker</th>\n",
       "      <th>region</th>\n",
       "      <th>charges</th>\n",
       "    </tr>\n",
       "  </thead>\n",
       "  <tbody>\n",
       "    <tr>\n",
       "      <th>0</th>\n",
       "      <td>19</td>\n",
       "      <td>female</td>\n",
       "      <td>27.900</td>\n",
       "      <td>0</td>\n",
       "      <td>yes</td>\n",
       "      <td>southwest</td>\n",
       "      <td>16884.92400</td>\n",
       "    </tr>\n",
       "    <tr>\n",
       "      <th>1</th>\n",
       "      <td>18</td>\n",
       "      <td>male</td>\n",
       "      <td>33.770</td>\n",
       "      <td>1</td>\n",
       "      <td>no</td>\n",
       "      <td>southeast</td>\n",
       "      <td>1725.55230</td>\n",
       "    </tr>\n",
       "    <tr>\n",
       "      <th>2</th>\n",
       "      <td>28</td>\n",
       "      <td>male</td>\n",
       "      <td>33.000</td>\n",
       "      <td>3</td>\n",
       "      <td>no</td>\n",
       "      <td>southeast</td>\n",
       "      <td>4449.46200</td>\n",
       "    </tr>\n",
       "    <tr>\n",
       "      <th>3</th>\n",
       "      <td>33</td>\n",
       "      <td>male</td>\n",
       "      <td>22.705</td>\n",
       "      <td>0</td>\n",
       "      <td>no</td>\n",
       "      <td>northwest</td>\n",
       "      <td>21984.47061</td>\n",
       "    </tr>\n",
       "    <tr>\n",
       "      <th>4</th>\n",
       "      <td>32</td>\n",
       "      <td>male</td>\n",
       "      <td>28.880</td>\n",
       "      <td>0</td>\n",
       "      <td>no</td>\n",
       "      <td>northwest</td>\n",
       "      <td>3866.85520</td>\n",
       "    </tr>\n",
       "  </tbody>\n",
       "</table>\n",
       "</div>"
      ],
      "text/plain": [
       "   age     sex     bmi  children smoker     region      charges\n",
       "0   19  female  27.900         0    yes  southwest  16884.92400\n",
       "1   18    male  33.770         1     no  southeast   1725.55230\n",
       "2   28    male  33.000         3     no  southeast   4449.46200\n",
       "3   33    male  22.705         0     no  northwest  21984.47061\n",
       "4   32    male  28.880         0     no  northwest   3866.85520"
      ]
     },
     "execution_count": 2,
     "metadata": {},
     "output_type": "execute_result"
    }
   ],
   "source": [
    "df = pd.read_csv('insurance.csv')\n",
    "df.head()"
   ]
  },
  {
   "cell_type": "code",
   "execution_count": 3,
   "metadata": {},
   "outputs": [
    {
     "name": "stdout",
     "output_type": "stream",
     "text": [
      "<class 'pandas.core.frame.DataFrame'>\n",
      "RangeIndex: 1338 entries, 0 to 1337\n",
      "Data columns (total 7 columns):\n",
      "age         1338 non-null int64\n",
      "sex         1338 non-null object\n",
      "bmi         1338 non-null float64\n",
      "children    1338 non-null int64\n",
      "smoker      1338 non-null object\n",
      "region      1338 non-null object\n",
      "charges     1338 non-null float64\n",
      "dtypes: float64(2), int64(2), object(3)\n",
      "memory usage: 73.2+ KB\n"
     ]
    }
   ],
   "source": [
    "df.info()"
   ]
  },
  {
   "cell_type": "code",
   "execution_count": 4,
   "metadata": {},
   "outputs": [
    {
     "data": {
      "text/plain": [
       "array([[19, 'female', 27.9, 0, 'yes', 'southwest'],\n",
       "       [18, 'male', 33.77, 1, 'no', 'southeast'],\n",
       "       [28, 'male', 33.0, 3, 'no', 'southeast'],\n",
       "       ...,\n",
       "       [18, 'female', 36.85, 0, 'no', 'southeast'],\n",
       "       [21, 'female', 25.8, 0, 'no', 'southwest'],\n",
       "       [61, 'female', 29.07, 0, 'yes', 'northwest']], dtype=object)"
      ]
     },
     "execution_count": 4,
     "metadata": {},
     "output_type": "execute_result"
    }
   ],
   "source": [
    "x = df.iloc[:,:-1].values\n",
    "y = df.iloc[:,-1].values\n",
    "x"
   ]
  },
  {
   "cell_type": "code",
   "execution_count": 5,
   "metadata": {},
   "outputs": [],
   "source": [
    "from sklearn.preprocessing import LabelEncoder\n",
    "from sklearn.preprocessing import OneHotEncoder\n",
    "le = LabelEncoder()\n",
    "oh = OneHotEncoder()"
   ]
  },
  {
   "cell_type": "code",
   "execution_count": 6,
   "metadata": {},
   "outputs": [],
   "source": [
    "x[:,1]= le.fit_transform(x[:,1])\n",
    "x[:,4] = le.fit_transform(x[:,4])\n",
    "x[:,5] = le.fit_transform(x[:,5])"
   ]
  },
  {
   "cell_type": "code",
   "execution_count": 7,
   "metadata": {},
   "outputs": [
    {
     "data": {
      "text/plain": [
       "array([[19, 0, 27.9, 0, 1, 3],\n",
       "       [18, 1, 33.77, 1, 0, 2],\n",
       "       [28, 1, 33.0, 3, 0, 2],\n",
       "       ...,\n",
       "       [18, 0, 36.85, 0, 0, 2],\n",
       "       [21, 0, 25.8, 0, 0, 3],\n",
       "       [61, 0, 29.07, 0, 1, 1]], dtype=object)"
      ]
     },
     "execution_count": 7,
     "metadata": {},
     "output_type": "execute_result"
    }
   ],
   "source": [
    "x"
   ]
  },
  {
   "cell_type": "code",
   "execution_count": 8,
   "metadata": {},
   "outputs": [
    {
     "data": {
      "text/plain": [
       "array([[19, 0, 27.9, ..., 0, 0, 1],\n",
       "       [18, 1, 33.77, ..., 0, 1, 0],\n",
       "       [28, 1, 33.0, ..., 0, 1, 0],\n",
       "       ...,\n",
       "       [18, 0, 36.85, ..., 0, 1, 0],\n",
       "       [21, 0, 25.8, ..., 0, 0, 1],\n",
       "       [61, 0, 29.07, ..., 1, 0, 0]], dtype=object)"
      ]
     },
     "execution_count": 8,
     "metadata": {},
     "output_type": "execute_result"
    }
   ],
   "source": [
    "x_r= oh.fit_transform(x[:,5].reshape(-1,1)).toarray()\n",
    "x_r= x_r.astype(int)\n",
    "x =(x[:,:5])\n",
    "x_r =(x_r[:,1:])\n",
    "x = np.concatenate([x,x_r],axis=1)\n",
    "x"
   ]
  },
  {
   "cell_type": "code",
   "execution_count": 9,
   "metadata": {},
   "outputs": [],
   "source": [
    "from sklearn.model_selection import train_test_split\n",
    "x_train,x_test,y_train,y_test =  train_test_split(x,y,test_size=0.3)"
   ]
  },
  {
   "cell_type": "code",
   "execution_count": 10,
   "metadata": {},
   "outputs": [
    {
     "name": "stderr",
     "output_type": "stream",
     "text": [
      "C:\\Users\\Mughilan_kumar\\Anaconda3\\lib\\site-packages\\sklearn\\utils\\validation.py:475: DataConversionWarning: Data with input dtype object was converted to float64 by StandardScaler.\n",
      "  warnings.warn(msg, DataConversionWarning)\n"
     ]
    }
   ],
   "source": [
    "from sklearn.preprocessing import StandardScaler\n",
    "ss = StandardScaler()\n",
    "x_train = ss.fit_transform(x_train)\n",
    "x_test = ss.transform(x_test)"
   ]
  },
  {
   "cell_type": "code",
   "execution_count": 11,
   "metadata": {},
   "outputs": [],
   "source": [
    "from sklearn.linear_model import LinearRegression\n",
    "regressor = LinearRegression()\n",
    "regressor.fit(x_train,y_train)\n",
    "y_pred = regressor.predict(x_test)"
   ]
  },
  {
   "cell_type": "code",
   "execution_count": 12,
   "metadata": {},
   "outputs": [
    {
     "data": {
      "text/plain": [
       "0.7184020750628256"
      ]
     },
     "execution_count": 12,
     "metadata": {},
     "output_type": "execute_result"
    }
   ],
   "source": [
    "from sklearn.metrics import r2_score\n",
    "r2_score(y_pred,y_test)"
   ]
  },
  {
   "cell_type": "code",
   "execution_count": 13,
   "metadata": {},
   "outputs": [
    {
     "data": {
      "text/plain": [
       "(936, 8)"
      ]
     },
     "execution_count": 13,
     "metadata": {},
     "output_type": "execute_result"
    }
   ],
   "source": [
    "x_train.shape"
   ]
  },
  {
   "cell_type": "code",
   "execution_count": 14,
   "metadata": {},
   "outputs": [],
   "source": [
    "import statsmodels.formula.api as sm\n",
    "x_b= np.append(np.ones((936,1)).astype(int),x_train,axis=1)\n",
    "x_test = np.append(np.ones((402,1)).astype(int),x_test,axis=1)"
   ]
  },
  {
   "cell_type": "code",
   "execution_count": 15,
   "metadata": {},
   "outputs": [
    {
     "data": {
      "text/html": [
       "<table class=\"simpletable\">\n",
       "<caption>OLS Regression Results</caption>\n",
       "<tr>\n",
       "  <th>Dep. Variable:</th>            <td>y</td>        <th>  R-squared:         </th> <td>   0.745</td> \n",
       "</tr>\n",
       "<tr>\n",
       "  <th>Model:</th>                   <td>OLS</td>       <th>  Adj. R-squared:    </th> <td>   0.742</td> \n",
       "</tr>\n",
       "<tr>\n",
       "  <th>Method:</th>             <td>Least Squares</td>  <th>  F-statistic:       </th> <td>   337.9</td> \n",
       "</tr>\n",
       "<tr>\n",
       "  <th>Date:</th>             <td>Mon, 17 Dec 2018</td> <th>  Prob (F-statistic):</th> <td>1.11e-268</td>\n",
       "</tr>\n",
       "<tr>\n",
       "  <th>Time:</th>                 <td>17:56:16</td>     <th>  Log-Likelihood:    </th> <td> -9503.5</td> \n",
       "</tr>\n",
       "<tr>\n",
       "  <th>No. Observations:</th>      <td>   936</td>      <th>  AIC:               </th> <td>1.902e+04</td>\n",
       "</tr>\n",
       "<tr>\n",
       "  <th>Df Residuals:</th>          <td>   927</td>      <th>  BIC:               </th> <td>1.907e+04</td>\n",
       "</tr>\n",
       "<tr>\n",
       "  <th>Df Model:</th>              <td>     8</td>      <th>                     </th>     <td> </td>    \n",
       "</tr>\n",
       "<tr>\n",
       "  <th>Covariance Type:</th>      <td>nonrobust</td>    <th>                     </th>     <td> </td>    \n",
       "</tr>\n",
       "</table>\n",
       "<table class=\"simpletable\">\n",
       "<tr>\n",
       "    <td></td>       <th>coef</th>     <th>std err</th>      <th>t</th>      <th>P>|t|</th>  <th>[0.025</th>    <th>0.975]</th>  \n",
       "</tr>\n",
       "<tr>\n",
       "  <th>const</th> <td> 1.339e+04</td> <td>  204.053</td> <td>   65.625</td> <td> 0.000</td> <td>  1.3e+04</td> <td> 1.38e+04</td>\n",
       "</tr>\n",
       "<tr>\n",
       "  <th>x1</th>    <td> 3594.2935</td> <td>  205.484</td> <td>   17.492</td> <td> 0.000</td> <td> 3191.025</td> <td> 3997.562</td>\n",
       "</tr>\n",
       "<tr>\n",
       "  <th>x2</th>    <td> -124.4729</td> <td>  205.252</td> <td>   -0.606</td> <td> 0.544</td> <td> -527.285</td> <td>  278.340</td>\n",
       "</tr>\n",
       "<tr>\n",
       "  <th>x3</th>    <td> 2052.9613</td> <td>  213.695</td> <td>    9.607</td> <td> 0.000</td> <td> 1633.580</td> <td> 2472.343</td>\n",
       "</tr>\n",
       "<tr>\n",
       "  <th>x4</th>    <td>  609.7823</td> <td>  204.442</td> <td>    2.983</td> <td> 0.003</td> <td>  208.559</td> <td> 1011.006</td>\n",
       "</tr>\n",
       "<tr>\n",
       "  <th>x5</th>    <td> 9733.5002</td> <td>  205.566</td> <td>   47.350</td> <td> 0.000</td> <td> 9330.072</td> <td> 1.01e+04</td>\n",
       "</tr>\n",
       "<tr>\n",
       "  <th>x6</th>    <td> -192.1246</td> <td>  251.212</td> <td>   -0.765</td> <td> 0.445</td> <td> -685.135</td> <td>  300.885</td>\n",
       "</tr>\n",
       "<tr>\n",
       "  <th>x7</th>    <td> -458.9254</td> <td>  259.275</td> <td>   -1.770</td> <td> 0.077</td> <td> -967.760</td> <td>   49.909</td>\n",
       "</tr>\n",
       "<tr>\n",
       "  <th>x8</th>    <td> -375.6089</td> <td>  250.611</td> <td>   -1.499</td> <td> 0.134</td> <td> -867.439</td> <td>  116.222</td>\n",
       "</tr>\n",
       "</table>\n",
       "<table class=\"simpletable\">\n",
       "<tr>\n",
       "  <th>Omnibus:</th>       <td>212.845</td> <th>  Durbin-Watson:     </th> <td>   2.015</td> \n",
       "</tr>\n",
       "<tr>\n",
       "  <th>Prob(Omnibus):</th> <td> 0.000</td>  <th>  Jarque-Bera (JB):  </th> <td> 507.352</td> \n",
       "</tr>\n",
       "<tr>\n",
       "  <th>Skew:</th>          <td> 1.210</td>  <th>  Prob(JB):          </th> <td>6.76e-111</td>\n",
       "</tr>\n",
       "<tr>\n",
       "  <th>Kurtosis:</th>      <td> 5.675</td>  <th>  Cond. No.          </th> <td>    2.18</td> \n",
       "</tr>\n",
       "</table><br/><br/>Warnings:<br/>[1] Standard Errors assume that the covariance matrix of the errors is correctly specified."
      ],
      "text/plain": [
       "<class 'statsmodels.iolib.summary.Summary'>\n",
       "\"\"\"\n",
       "                            OLS Regression Results                            \n",
       "==============================================================================\n",
       "Dep. Variable:                      y   R-squared:                       0.745\n",
       "Model:                            OLS   Adj. R-squared:                  0.742\n",
       "Method:                 Least Squares   F-statistic:                     337.9\n",
       "Date:                Mon, 17 Dec 2018   Prob (F-statistic):          1.11e-268\n",
       "Time:                        17:56:16   Log-Likelihood:                -9503.5\n",
       "No. Observations:                 936   AIC:                         1.902e+04\n",
       "Df Residuals:                     927   BIC:                         1.907e+04\n",
       "Df Model:                           8                                         \n",
       "Covariance Type:            nonrobust                                         \n",
       "==============================================================================\n",
       "                 coef    std err          t      P>|t|      [0.025      0.975]\n",
       "------------------------------------------------------------------------------\n",
       "const       1.339e+04    204.053     65.625      0.000     1.3e+04    1.38e+04\n",
       "x1          3594.2935    205.484     17.492      0.000    3191.025    3997.562\n",
       "x2          -124.4729    205.252     -0.606      0.544    -527.285     278.340\n",
       "x3          2052.9613    213.695      9.607      0.000    1633.580    2472.343\n",
       "x4           609.7823    204.442      2.983      0.003     208.559    1011.006\n",
       "x5          9733.5002    205.566     47.350      0.000    9330.072    1.01e+04\n",
       "x6          -192.1246    251.212     -0.765      0.445    -685.135     300.885\n",
       "x7          -458.9254    259.275     -1.770      0.077    -967.760      49.909\n",
       "x8          -375.6089    250.611     -1.499      0.134    -867.439     116.222\n",
       "==============================================================================\n",
       "Omnibus:                      212.845   Durbin-Watson:                   2.015\n",
       "Prob(Omnibus):                  0.000   Jarque-Bera (JB):              507.352\n",
       "Skew:                           1.210   Prob(JB):                    6.76e-111\n",
       "Kurtosis:                       5.675   Cond. No.                         2.18\n",
       "==============================================================================\n",
       "\n",
       "Warnings:\n",
       "[1] Standard Errors assume that the covariance matrix of the errors is correctly specified.\n",
       "\"\"\""
      ]
     },
     "execution_count": 15,
     "metadata": {},
     "output_type": "execute_result"
    }
   ],
   "source": [
    "x_opt = x_b[:,[0,1,2,3,4,5,6,7,8]]\n",
    "regressor_ols = sm.OLS(y_train,x_opt).fit()\n",
    "regressor_ols.summary()"
   ]
  },
  {
   "cell_type": "code",
   "execution_count": 16,
   "metadata": {},
   "outputs": [
    {
     "data": {
      "text/html": [
       "<table class=\"simpletable\">\n",
       "<caption>OLS Regression Results</caption>\n",
       "<tr>\n",
       "  <th>Dep. Variable:</th>            <td>y</td>        <th>  R-squared:         </th> <td>   0.745</td> \n",
       "</tr>\n",
       "<tr>\n",
       "  <th>Model:</th>                   <td>OLS</td>       <th>  Adj. R-squared:    </th> <td>   0.743</td> \n",
       "</tr>\n",
       "<tr>\n",
       "  <th>Method:</th>             <td>Least Squares</td>  <th>  F-statistic:       </th> <td>   386.4</td> \n",
       "</tr>\n",
       "<tr>\n",
       "  <th>Date:</th>             <td>Mon, 17 Dec 2018</td> <th>  Prob (F-statistic):</th> <td>6.54e-270</td>\n",
       "</tr>\n",
       "<tr>\n",
       "  <th>Time:</th>                 <td>17:56:16</td>     <th>  Log-Likelihood:    </th> <td> -9503.7</td> \n",
       "</tr>\n",
       "<tr>\n",
       "  <th>No. Observations:</th>      <td>   936</td>      <th>  AIC:               </th> <td>1.902e+04</td>\n",
       "</tr>\n",
       "<tr>\n",
       "  <th>Df Residuals:</th>          <td>   928</td>      <th>  BIC:               </th> <td>1.906e+04</td>\n",
       "</tr>\n",
       "<tr>\n",
       "  <th>Df Model:</th>              <td>     7</td>      <th>                     </th>     <td> </td>    \n",
       "</tr>\n",
       "<tr>\n",
       "  <th>Covariance Type:</th>      <td>nonrobust</td>    <th>                     </th>     <td> </td>    \n",
       "</tr>\n",
       "</table>\n",
       "<table class=\"simpletable\">\n",
       "<tr>\n",
       "    <td></td>       <th>coef</th>     <th>std err</th>      <th>t</th>      <th>P>|t|</th>  <th>[0.025</th>    <th>0.975]</th>  \n",
       "</tr>\n",
       "<tr>\n",
       "  <th>const</th> <td> 1.339e+04</td> <td>  203.984</td> <td>   65.647</td> <td> 0.000</td> <td>  1.3e+04</td> <td> 1.38e+04</td>\n",
       "</tr>\n",
       "<tr>\n",
       "  <th>x1</th>    <td> 3596.7018</td> <td>  205.376</td> <td>   17.513</td> <td> 0.000</td> <td> 3193.647</td> <td> 3999.757</td>\n",
       "</tr>\n",
       "<tr>\n",
       "  <th>x2</th>    <td> 2048.7254</td> <td>  213.508</td> <td>    9.596</td> <td> 0.000</td> <td> 1629.711</td> <td> 2467.739</td>\n",
       "</tr>\n",
       "<tr>\n",
       "  <th>x3</th>    <td>  607.8183</td> <td>  204.347</td> <td>    2.974</td> <td> 0.003</td> <td>  206.782</td> <td> 1008.854</td>\n",
       "</tr>\n",
       "<tr>\n",
       "  <th>x4</th>    <td> 9721.1819</td> <td>  204.490</td> <td>   47.539</td> <td> 0.000</td> <td> 9319.866</td> <td> 1.01e+04</td>\n",
       "</tr>\n",
       "<tr>\n",
       "  <th>x5</th>    <td> -193.1313</td> <td>  251.121</td> <td>   -0.769</td> <td> 0.442</td> <td> -685.962</td> <td>  299.699</td>\n",
       "</tr>\n",
       "<tr>\n",
       "  <th>x6</th>    <td> -458.2952</td> <td>  259.185</td> <td>   -1.768</td> <td> 0.077</td> <td> -966.952</td> <td>   50.361</td>\n",
       "</tr>\n",
       "<tr>\n",
       "  <th>x7</th>    <td> -374.1635</td> <td>  250.514</td> <td>   -1.494</td> <td> 0.136</td> <td> -865.804</td> <td>  117.476</td>\n",
       "</tr>\n",
       "</table>\n",
       "<table class=\"simpletable\">\n",
       "<tr>\n",
       "  <th>Omnibus:</th>       <td>213.056</td> <th>  Durbin-Watson:     </th> <td>   2.018</td> \n",
       "</tr>\n",
       "<tr>\n",
       "  <th>Prob(Omnibus):</th> <td> 0.000</td>  <th>  Jarque-Bera (JB):  </th> <td> 507.762</td> \n",
       "</tr>\n",
       "<tr>\n",
       "  <th>Skew:</th>          <td> 1.211</td>  <th>  Prob(JB):          </th> <td>5.51e-111</td>\n",
       "</tr>\n",
       "<tr>\n",
       "  <th>Kurtosis:</th>      <td> 5.675</td>  <th>  Cond. No.          </th> <td>    2.18</td> \n",
       "</tr>\n",
       "</table><br/><br/>Warnings:<br/>[1] Standard Errors assume that the covariance matrix of the errors is correctly specified."
      ],
      "text/plain": [
       "<class 'statsmodels.iolib.summary.Summary'>\n",
       "\"\"\"\n",
       "                            OLS Regression Results                            \n",
       "==============================================================================\n",
       "Dep. Variable:                      y   R-squared:                       0.745\n",
       "Model:                            OLS   Adj. R-squared:                  0.743\n",
       "Method:                 Least Squares   F-statistic:                     386.4\n",
       "Date:                Mon, 17 Dec 2018   Prob (F-statistic):          6.54e-270\n",
       "Time:                        17:56:16   Log-Likelihood:                -9503.7\n",
       "No. Observations:                 936   AIC:                         1.902e+04\n",
       "Df Residuals:                     928   BIC:                         1.906e+04\n",
       "Df Model:                           7                                         \n",
       "Covariance Type:            nonrobust                                         \n",
       "==============================================================================\n",
       "                 coef    std err          t      P>|t|      [0.025      0.975]\n",
       "------------------------------------------------------------------------------\n",
       "const       1.339e+04    203.984     65.647      0.000     1.3e+04    1.38e+04\n",
       "x1          3596.7018    205.376     17.513      0.000    3193.647    3999.757\n",
       "x2          2048.7254    213.508      9.596      0.000    1629.711    2467.739\n",
       "x3           607.8183    204.347      2.974      0.003     206.782    1008.854\n",
       "x4          9721.1819    204.490     47.539      0.000    9319.866    1.01e+04\n",
       "x5          -193.1313    251.121     -0.769      0.442    -685.962     299.699\n",
       "x6          -458.2952    259.185     -1.768      0.077    -966.952      50.361\n",
       "x7          -374.1635    250.514     -1.494      0.136    -865.804     117.476\n",
       "==============================================================================\n",
       "Omnibus:                      213.056   Durbin-Watson:                   2.018\n",
       "Prob(Omnibus):                  0.000   Jarque-Bera (JB):              507.762\n",
       "Skew:                           1.211   Prob(JB):                    5.51e-111\n",
       "Kurtosis:                       5.675   Cond. No.                         2.18\n",
       "==============================================================================\n",
       "\n",
       "Warnings:\n",
       "[1] Standard Errors assume that the covariance matrix of the errors is correctly specified.\n",
       "\"\"\""
      ]
     },
     "execution_count": 16,
     "metadata": {},
     "output_type": "execute_result"
    }
   ],
   "source": [
    "x_opt = x_b[:,[0,1,3,4,5,6,7,8]]\n",
    "regressor_ols = sm.OLS(y_train,x_opt).fit()\n",
    "regressor_ols.summary()"
   ]
  },
  {
   "cell_type": "code",
   "execution_count": 17,
   "metadata": {},
   "outputs": [
    {
     "data": {
      "text/html": [
       "<table class=\"simpletable\">\n",
       "<caption>OLS Regression Results</caption>\n",
       "<tr>\n",
       "  <th>Dep. Variable:</th>            <td>y</td>        <th>  R-squared:         </th> <td>   0.744</td> \n",
       "</tr>\n",
       "<tr>\n",
       "  <th>Model:</th>                   <td>OLS</td>       <th>  Adj. R-squared:    </th> <td>   0.743</td> \n",
       "</tr>\n",
       "<tr>\n",
       "  <th>Method:</th>             <td>Least Squares</td>  <th>  F-statistic:       </th> <td>   450.9</td> \n",
       "</tr>\n",
       "<tr>\n",
       "  <th>Date:</th>             <td>Mon, 17 Dec 2018</td> <th>  Prob (F-statistic):</th> <td>3.97e-271</td>\n",
       "</tr>\n",
       "<tr>\n",
       "  <th>Time:</th>                 <td>17:56:16</td>     <th>  Log-Likelihood:    </th> <td> -9504.0</td> \n",
       "</tr>\n",
       "<tr>\n",
       "  <th>No. Observations:</th>      <td>   936</td>      <th>  AIC:               </th> <td>1.902e+04</td>\n",
       "</tr>\n",
       "<tr>\n",
       "  <th>Df Residuals:</th>          <td>   929</td>      <th>  BIC:               </th> <td>1.906e+04</td>\n",
       "</tr>\n",
       "<tr>\n",
       "  <th>Df Model:</th>              <td>     6</td>      <th>                     </th>     <td> </td>    \n",
       "</tr>\n",
       "<tr>\n",
       "  <th>Covariance Type:</th>      <td>nonrobust</td>    <th>                     </th>     <td> </td>    \n",
       "</tr>\n",
       "</table>\n",
       "<table class=\"simpletable\">\n",
       "<tr>\n",
       "    <td></td>       <th>coef</th>     <th>std err</th>      <th>t</th>      <th>P>|t|</th>  <th>[0.025</th>    <th>0.975]</th>  \n",
       "</tr>\n",
       "<tr>\n",
       "  <th>const</th> <td> 1.339e+04</td> <td>  203.939</td> <td>   65.662</td> <td> 0.000</td> <td>  1.3e+04</td> <td> 1.38e+04</td>\n",
       "</tr>\n",
       "<tr>\n",
       "  <th>x1</th>    <td> 3597.3810</td> <td>  205.329</td> <td>   17.520</td> <td> 0.000</td> <td> 3194.419</td> <td> 4000.343</td>\n",
       "</tr>\n",
       "<tr>\n",
       "  <th>x2</th>    <td> 2046.9069</td> <td>  213.448</td> <td>    9.590</td> <td> 0.000</td> <td> 1628.011</td> <td> 2465.803</td>\n",
       "</tr>\n",
       "<tr>\n",
       "  <th>x3</th>    <td>  602.2663</td> <td>  204.175</td> <td>    2.950</td> <td> 0.003</td> <td>  201.569</td> <td> 1002.963</td>\n",
       "</tr>\n",
       "<tr>\n",
       "  <th>x4</th>    <td> 9724.4412</td> <td>  204.401</td> <td>   47.575</td> <td> 0.000</td> <td> 9323.300</td> <td> 1.01e+04</td>\n",
       "</tr>\n",
       "<tr>\n",
       "  <th>x5</th>    <td> -359.6599</td> <td>  225.180</td> <td>   -1.597</td> <td> 0.111</td> <td> -801.580</td> <td>   82.261</td>\n",
       "</tr>\n",
       "<tr>\n",
       "  <th>x6</th>    <td> -278.3254</td> <td>  217.274</td> <td>   -1.281</td> <td> 0.201</td> <td> -704.729</td> <td>  148.079</td>\n",
       "</tr>\n",
       "</table>\n",
       "<table class=\"simpletable\">\n",
       "<tr>\n",
       "  <th>Omnibus:</th>       <td>212.767</td> <th>  Durbin-Watson:     </th> <td>   2.021</td> \n",
       "</tr>\n",
       "<tr>\n",
       "  <th>Prob(Omnibus):</th> <td> 0.000</td>  <th>  Jarque-Bera (JB):  </th> <td> 504.733</td> \n",
       "</tr>\n",
       "<tr>\n",
       "  <th>Skew:</th>          <td> 1.211</td>  <th>  Prob(JB):          </th> <td>2.50e-110</td>\n",
       "</tr>\n",
       "<tr>\n",
       "  <th>Kurtosis:</th>      <td> 5.659</td>  <th>  Cond. No.          </th> <td>    1.58</td> \n",
       "</tr>\n",
       "</table><br/><br/>Warnings:<br/>[1] Standard Errors assume that the covariance matrix of the errors is correctly specified."
      ],
      "text/plain": [
       "<class 'statsmodels.iolib.summary.Summary'>\n",
       "\"\"\"\n",
       "                            OLS Regression Results                            \n",
       "==============================================================================\n",
       "Dep. Variable:                      y   R-squared:                       0.744\n",
       "Model:                            OLS   Adj. R-squared:                  0.743\n",
       "Method:                 Least Squares   F-statistic:                     450.9\n",
       "Date:                Mon, 17 Dec 2018   Prob (F-statistic):          3.97e-271\n",
       "Time:                        17:56:16   Log-Likelihood:                -9504.0\n",
       "No. Observations:                 936   AIC:                         1.902e+04\n",
       "Df Residuals:                     929   BIC:                         1.906e+04\n",
       "Df Model:                           6                                         \n",
       "Covariance Type:            nonrobust                                         \n",
       "==============================================================================\n",
       "                 coef    std err          t      P>|t|      [0.025      0.975]\n",
       "------------------------------------------------------------------------------\n",
       "const       1.339e+04    203.939     65.662      0.000     1.3e+04    1.38e+04\n",
       "x1          3597.3810    205.329     17.520      0.000    3194.419    4000.343\n",
       "x2          2046.9069    213.448      9.590      0.000    1628.011    2465.803\n",
       "x3           602.2663    204.175      2.950      0.003     201.569    1002.963\n",
       "x4          9724.4412    204.401     47.575      0.000    9323.300    1.01e+04\n",
       "x5          -359.6599    225.180     -1.597      0.111    -801.580      82.261\n",
       "x6          -278.3254    217.274     -1.281      0.201    -704.729     148.079\n",
       "==============================================================================\n",
       "Omnibus:                      212.767   Durbin-Watson:                   2.021\n",
       "Prob(Omnibus):                  0.000   Jarque-Bera (JB):              504.733\n",
       "Skew:                           1.211   Prob(JB):                    2.50e-110\n",
       "Kurtosis:                       5.659   Cond. No.                         1.58\n",
       "==============================================================================\n",
       "\n",
       "Warnings:\n",
       "[1] Standard Errors assume that the covariance matrix of the errors is correctly specified.\n",
       "\"\"\""
      ]
     },
     "execution_count": 17,
     "metadata": {},
     "output_type": "execute_result"
    }
   ],
   "source": [
    "x_opt = x_b[:,[0,1,3,4,5,7,8]]\n",
    "regressor_ols = sm.OLS(y_train,x_opt).fit()\n",
    "regressor_ols.summary()"
   ]
  },
  {
   "cell_type": "code",
   "execution_count": 18,
   "metadata": {},
   "outputs": [
    {
     "data": {
      "text/html": [
       "<table class=\"simpletable\">\n",
       "<caption>OLS Regression Results</caption>\n",
       "<tr>\n",
       "  <th>Dep. Variable:</th>            <td>y</td>        <th>  R-squared:         </th> <td>   0.744</td> \n",
       "</tr>\n",
       "<tr>\n",
       "  <th>Model:</th>                   <td>OLS</td>       <th>  Adj. R-squared:    </th> <td>   0.742</td> \n",
       "</tr>\n",
       "<tr>\n",
       "  <th>Method:</th>             <td>Least Squares</td>  <th>  F-statistic:       </th> <td>   539.7</td> \n",
       "</tr>\n",
       "<tr>\n",
       "  <th>Date:</th>             <td>Mon, 17 Dec 2018</td> <th>  Prob (F-statistic):</th> <td>5.79e-272</td>\n",
       "</tr>\n",
       "<tr>\n",
       "  <th>Time:</th>                 <td>17:56:16</td>     <th>  Log-Likelihood:    </th> <td> -9505.3</td> \n",
       "</tr>\n",
       "<tr>\n",
       "  <th>No. Observations:</th>      <td>   936</td>      <th>  AIC:               </th> <td>1.902e+04</td>\n",
       "</tr>\n",
       "<tr>\n",
       "  <th>Df Residuals:</th>          <td>   930</td>      <th>  BIC:               </th> <td>1.905e+04</td>\n",
       "</tr>\n",
       "<tr>\n",
       "  <th>Df Model:</th>              <td>     5</td>      <th>                     </th>     <td> </td>    \n",
       "</tr>\n",
       "<tr>\n",
       "  <th>Covariance Type:</th>      <td>nonrobust</td>    <th>                     </th>     <td> </td>    \n",
       "</tr>\n",
       "</table>\n",
       "<table class=\"simpletable\">\n",
       "<tr>\n",
       "    <td></td>       <th>coef</th>     <th>std err</th>      <th>t</th>      <th>P>|t|</th>  <th>[0.025</th>    <th>0.975]</th>  \n",
       "</tr>\n",
       "<tr>\n",
       "  <th>const</th> <td> 1.339e+04</td> <td>  204.109</td> <td>   65.607</td> <td> 0.000</td> <td>  1.3e+04</td> <td> 1.38e+04</td>\n",
       "</tr>\n",
       "<tr>\n",
       "  <th>x1</th>    <td> 3603.5104</td> <td>  205.464</td> <td>   17.538</td> <td> 0.000</td> <td> 3200.283</td> <td> 4006.738</td>\n",
       "</tr>\n",
       "<tr>\n",
       "  <th>x2</th>    <td> 1953.1285</td> <td>  205.385</td> <td>    9.510</td> <td> 0.000</td> <td> 1550.057</td> <td> 2356.200</td>\n",
       "</tr>\n",
       "<tr>\n",
       "  <th>x3</th>    <td>  611.5448</td> <td>  204.262</td> <td>    2.994</td> <td> 0.003</td> <td>  210.677</td> <td> 1012.413</td>\n",
       "</tr>\n",
       "<tr>\n",
       "  <th>x4</th>    <td> 9704.8561</td> <td>  204.203</td> <td>   47.526</td> <td> 0.000</td> <td> 9304.104</td> <td> 1.01e+04</td>\n",
       "</tr>\n",
       "<tr>\n",
       "  <th>x5</th>    <td> -158.8755</td> <td>  204.167</td> <td>   -0.778</td> <td> 0.437</td> <td> -559.557</td> <td>  241.806</td>\n",
       "</tr>\n",
       "</table>\n",
       "<table class=\"simpletable\">\n",
       "<tr>\n",
       "  <th>Omnibus:</th>       <td>211.401</td> <th>  Durbin-Watson:     </th> <td>   2.024</td> \n",
       "</tr>\n",
       "<tr>\n",
       "  <th>Prob(Omnibus):</th> <td> 0.000</td>  <th>  Jarque-Bera (JB):  </th> <td> 497.635</td> \n",
       "</tr>\n",
       "<tr>\n",
       "  <th>Skew:</th>          <td> 1.207</td>  <th>  Prob(JB):          </th> <td>8.71e-109</td>\n",
       "</tr>\n",
       "<tr>\n",
       "  <th>Kurtosis:</th>      <td> 5.632</td>  <th>  Cond. No.          </th> <td>    1.13</td> \n",
       "</tr>\n",
       "</table><br/><br/>Warnings:<br/>[1] Standard Errors assume that the covariance matrix of the errors is correctly specified."
      ],
      "text/plain": [
       "<class 'statsmodels.iolib.summary.Summary'>\n",
       "\"\"\"\n",
       "                            OLS Regression Results                            \n",
       "==============================================================================\n",
       "Dep. Variable:                      y   R-squared:                       0.744\n",
       "Model:                            OLS   Adj. R-squared:                  0.742\n",
       "Method:                 Least Squares   F-statistic:                     539.7\n",
       "Date:                Mon, 17 Dec 2018   Prob (F-statistic):          5.79e-272\n",
       "Time:                        17:56:16   Log-Likelihood:                -9505.3\n",
       "No. Observations:                 936   AIC:                         1.902e+04\n",
       "Df Residuals:                     930   BIC:                         1.905e+04\n",
       "Df Model:                           5                                         \n",
       "Covariance Type:            nonrobust                                         \n",
       "==============================================================================\n",
       "                 coef    std err          t      P>|t|      [0.025      0.975]\n",
       "------------------------------------------------------------------------------\n",
       "const       1.339e+04    204.109     65.607      0.000     1.3e+04    1.38e+04\n",
       "x1          3603.5104    205.464     17.538      0.000    3200.283    4006.738\n",
       "x2          1953.1285    205.385      9.510      0.000    1550.057    2356.200\n",
       "x3           611.5448    204.262      2.994      0.003     210.677    1012.413\n",
       "x4          9704.8561    204.203     47.526      0.000    9304.104    1.01e+04\n",
       "x5          -158.8755    204.167     -0.778      0.437    -559.557     241.806\n",
       "==============================================================================\n",
       "Omnibus:                      211.401   Durbin-Watson:                   2.024\n",
       "Prob(Omnibus):                  0.000   Jarque-Bera (JB):              497.635\n",
       "Skew:                           1.207   Prob(JB):                    8.71e-109\n",
       "Kurtosis:                       5.632   Cond. No.                         1.13\n",
       "==============================================================================\n",
       "\n",
       "Warnings:\n",
       "[1] Standard Errors assume that the covariance matrix of the errors is correctly specified.\n",
       "\"\"\""
      ]
     },
     "execution_count": 18,
     "metadata": {},
     "output_type": "execute_result"
    }
   ],
   "source": [
    "x_opt = x_b[:,[0,1,3,4,5,8]]\n",
    "regressor_ols = sm.OLS(y_train,x_opt).fit()\n",
    "regressor_ols.summary()"
   ]
  },
  {
   "cell_type": "code",
   "execution_count": 19,
   "metadata": {},
   "outputs": [
    {
     "data": {
      "text/html": [
       "<table class=\"simpletable\">\n",
       "<caption>OLS Regression Results</caption>\n",
       "<tr>\n",
       "  <th>Dep. Variable:</th>            <td>y</td>        <th>  R-squared:         </th> <td>   0.744</td> \n",
       "</tr>\n",
       "<tr>\n",
       "  <th>Model:</th>                   <td>OLS</td>       <th>  Adj. R-squared:    </th> <td>   0.742</td> \n",
       "</tr>\n",
       "<tr>\n",
       "  <th>Method:</th>             <td>Least Squares</td>  <th>  F-statistic:       </th> <td>   674.7</td> \n",
       "</tr>\n",
       "<tr>\n",
       "  <th>Date:</th>             <td>Mon, 17 Dec 2018</td> <th>  Prob (F-statistic):</th> <td>2.83e-273</td>\n",
       "</tr>\n",
       "<tr>\n",
       "  <th>Time:</th>                 <td>17:56:16</td>     <th>  Log-Likelihood:    </th> <td> -9505.6</td> \n",
       "</tr>\n",
       "<tr>\n",
       "  <th>No. Observations:</th>      <td>   936</td>      <th>  AIC:               </th> <td>1.902e+04</td>\n",
       "</tr>\n",
       "<tr>\n",
       "  <th>Df Residuals:</th>          <td>   931</td>      <th>  BIC:               </th> <td>1.905e+04</td>\n",
       "</tr>\n",
       "<tr>\n",
       "  <th>Df Model:</th>              <td>     4</td>      <th>                     </th>     <td> </td>    \n",
       "</tr>\n",
       "<tr>\n",
       "  <th>Covariance Type:</th>      <td>nonrobust</td>    <th>                     </th>     <td> </td>    \n",
       "</tr>\n",
       "</table>\n",
       "<table class=\"simpletable\">\n",
       "<tr>\n",
       "    <td></td>       <th>coef</th>     <th>std err</th>      <th>t</th>      <th>P>|t|</th>  <th>[0.025</th>    <th>0.975]</th>  \n",
       "</tr>\n",
       "<tr>\n",
       "  <th>const</th> <td> 1.339e+04</td> <td>  204.066</td> <td>   65.621</td> <td> 0.000</td> <td>  1.3e+04</td> <td> 1.38e+04</td>\n",
       "</tr>\n",
       "<tr>\n",
       "  <th>x1</th>    <td> 3601.9393</td> <td>  205.411</td> <td>   17.535</td> <td> 0.000</td> <td> 3198.818</td> <td> 4005.061</td>\n",
       "</tr>\n",
       "<tr>\n",
       "  <th>x2</th>    <td> 1951.0450</td> <td>  205.324</td> <td>    9.502</td> <td> 0.000</td> <td> 1548.094</td> <td> 2353.996</td>\n",
       "</tr>\n",
       "<tr>\n",
       "  <th>x3</th>    <td>  609.1425</td> <td>  204.196</td> <td>    2.983</td> <td> 0.003</td> <td>  208.406</td> <td> 1009.879</td>\n",
       "</tr>\n",
       "<tr>\n",
       "  <th>x4</th>    <td> 9705.6903</td> <td>  204.157</td> <td>   47.540</td> <td> 0.000</td> <td> 9305.029</td> <td> 1.01e+04</td>\n",
       "</tr>\n",
       "</table>\n",
       "<table class=\"simpletable\">\n",
       "<tr>\n",
       "  <th>Omnibus:</th>       <td>212.810</td> <th>  Durbin-Watson:     </th> <td>   2.023</td> \n",
       "</tr>\n",
       "<tr>\n",
       "  <th>Prob(Omnibus):</th> <td> 0.000</td>  <th>  Jarque-Bera (JB):  </th> <td> 502.839</td> \n",
       "</tr>\n",
       "<tr>\n",
       "  <th>Skew:</th>          <td> 1.213</td>  <th>  Prob(JB):          </th> <td>6.46e-110</td>\n",
       "</tr>\n",
       "<tr>\n",
       "  <th>Kurtosis:</th>      <td> 5.646</td>  <th>  Cond. No.          </th> <td>    1.12</td> \n",
       "</tr>\n",
       "</table><br/><br/>Warnings:<br/>[1] Standard Errors assume that the covariance matrix of the errors is correctly specified."
      ],
      "text/plain": [
       "<class 'statsmodels.iolib.summary.Summary'>\n",
       "\"\"\"\n",
       "                            OLS Regression Results                            \n",
       "==============================================================================\n",
       "Dep. Variable:                      y   R-squared:                       0.744\n",
       "Model:                            OLS   Adj. R-squared:                  0.742\n",
       "Method:                 Least Squares   F-statistic:                     674.7\n",
       "Date:                Mon, 17 Dec 2018   Prob (F-statistic):          2.83e-273\n",
       "Time:                        17:56:16   Log-Likelihood:                -9505.6\n",
       "No. Observations:                 936   AIC:                         1.902e+04\n",
       "Df Residuals:                     931   BIC:                         1.905e+04\n",
       "Df Model:                           4                                         \n",
       "Covariance Type:            nonrobust                                         \n",
       "==============================================================================\n",
       "                 coef    std err          t      P>|t|      [0.025      0.975]\n",
       "------------------------------------------------------------------------------\n",
       "const       1.339e+04    204.066     65.621      0.000     1.3e+04    1.38e+04\n",
       "x1          3601.9393    205.411     17.535      0.000    3198.818    4005.061\n",
       "x2          1951.0450    205.324      9.502      0.000    1548.094    2353.996\n",
       "x3           609.1425    204.196      2.983      0.003     208.406    1009.879\n",
       "x4          9705.6903    204.157     47.540      0.000    9305.029    1.01e+04\n",
       "==============================================================================\n",
       "Omnibus:                      212.810   Durbin-Watson:                   2.023\n",
       "Prob(Omnibus):                  0.000   Jarque-Bera (JB):              502.839\n",
       "Skew:                           1.213   Prob(JB):                    6.46e-110\n",
       "Kurtosis:                       5.646   Cond. No.                         1.12\n",
       "==============================================================================\n",
       "\n",
       "Warnings:\n",
       "[1] Standard Errors assume that the covariance matrix of the errors is correctly specified.\n",
       "\"\"\""
      ]
     },
     "execution_count": 19,
     "metadata": {},
     "output_type": "execute_result"
    }
   ],
   "source": [
    "x_opt = x_b[:,[0,1,3,4,5]]\n",
    "regressor_ols = sm.OLS(y_train,x_opt).fit()\n",
    "regressor_ols.summary()"
   ]
  },
  {
   "cell_type": "code",
   "execution_count": 20,
   "metadata": {},
   "outputs": [],
   "source": [
    "x_train = x_b[:,[0,1,3,4,5]]\n",
    "x_test =  x_test [:,[0,1,3,4,5]]\n",
    "regressor.fit(x_train,y_train)\n",
    "y_pred = regressor.predict(x_test)"
   ]
  },
  {
   "cell_type": "code",
   "execution_count": 21,
   "metadata": {},
   "outputs": [
    {
     "data": {
      "text/plain": [
       "0.7147104204420696"
      ]
     },
     "execution_count": 21,
     "metadata": {},
     "output_type": "execute_result"
    }
   ],
   "source": [
    "r2_score(y_pred,y_test)"
   ]
  },
  {
   "cell_type": "code",
   "execution_count": 22,
   "metadata": {},
   "outputs": [],
   "source": [
    "#age,#bmi,#children,#smoker"
   ]
  },
  {
   "cell_type": "code",
   "execution_count": null,
   "metadata": {},
   "outputs": [],
   "source": []
  }
 ],
 "metadata": {
  "kernelspec": {
   "display_name": "Python 3",
   "language": "python",
   "name": "python3"
  },
  "language_info": {
   "codemirror_mode": {
    "name": "ipython",
    "version": 3
   },
   "file_extension": ".py",
   "mimetype": "text/x-python",
   "name": "python",
   "nbconvert_exporter": "python",
   "pygments_lexer": "ipython3",
   "version": "3.7.0"
  }
 },
 "nbformat": 4,
 "nbformat_minor": 2
}
